{
 "cells": [
  {
   "cell_type": "code",
   "execution_count": 1,
   "metadata": {},
   "outputs": [],
   "source": [
    "import pandas as pd\n",
    "import numpy as np\n",
    "from matplotlib import pyplot as plt\n",
    "import seaborn as sns"
   ]
  },
  {
   "cell_type": "code",
   "execution_count": 2,
   "metadata": {},
   "outputs": [
    {
     "name": "stdout",
     "output_type": "stream",
     "text": [
      "England win the toss and bat first.\n"
     ]
    }
   ],
   "source": [
    "data = pd.ExcelFile(\"C:/Users/mahip/Downloads/Ind-vs-Eng-Test4.xlsx\")\n",
    "\n",
    "team_data = pd.read_excel(data, 'Teams')\n",
    "team_data = team_data.dropna(how='all')\n",
    "\n",
    "toss_result = list(team_data.tail(1)['India'])[0]\n",
    "print(toss_result)"
   ]
  },
  {
   "cell_type": "code",
   "execution_count": 3,
   "metadata": {},
   "outputs": [],
   "source": [
    "innings_1_data = pd.read_excel(data, 'Innings-1')\n",
    "innings_1_data = innings_1_data.dropna()\n",
    "\n",
    "innings_1_data['Over'] = innings_1_data['Over'].astype('object')\n",
    "innings_1_data['Ball'] = innings_1_data['Ball'].astype('float')\n",
    "\n",
    "innings_2_data = pd.read_excel(data, 'Innings-2')\n",
    "innings_2_data = innings_2_data.dropna()\n",
    "\n",
    "innings_2_data['RunRate'] = innings_2_data['RunRate'].astype('float')\n",
    "\n",
    "innings_3_data = pd.read_excel(data, 'Innings-3')\n",
    "innings_3_data = innings_3_data.dropna()\n",
    "\n",
    "innings_3_data['Over'] = innings_3_data['Over'].astype('object')\n",
    "innings_3_data['Ball'] = innings_3_data['Ball'].astype('float')\n",
    "\n",
    "innings_1_data['Runs'] = innings_1_data['Runs'].astype('int64')\n",
    "innings_2_data['Runs'] = innings_2_data['Runs'].astype('int64')\n",
    "innings_3_data['Runs'] = innings_3_data['Runs'].astype('int64')"
   ]
  },
  {
   "cell_type": "code",
   "execution_count": 4,
   "metadata": {},
   "outputs": [],
   "source": [
    "day_1_data = pd.read_excel(data, 'Day-1')\n",
    "day_1_data = day_1_data.dropna()\n",
    "day_1_data = day_1_data.reset_index()\n",
    "\n",
    "day_1_data['Runs'] = day_1_data['Runs'].astype('int64')\n",
    "day_1_data['Total Score'] = day_1_data['Total Score'].astype('int64')\n",
    "day_1_data['Total Wickets'] = day_1_data['Total Wickets'].astype('int64')\n",
    "\n",
    "day_2_data = pd.read_excel(data, 'Day-2')\n",
    "day_2_data = day_2_data.dropna()\n",
    "day_2_data = day_2_data.reset_index()\n",
    "\n",
    "day_2_data['Over'] = day_2_data['Over'].astype('object')\n",
    "day_2_data['Ball'] = day_2_data['Ball'].astype('float')\n",
    "\n",
    "day_3_data = pd.read_excel(data, 'Day-3')\n",
    "day_3_data = day_3_data.dropna()\n",
    "day_3_data = day_3_data.reset_index()\n",
    "\n",
    "day_3_data['Runs'] = day_3_data['Runs'].astype('int64')\n",
    "day_3_data['Total Score'] = day_3_data['Total Score'].astype('int64')\n",
    "day_3_data['Total Wickets'] = day_3_data['Total Wickets'].astype('int64')"
   ]
  },
  {
   "cell_type": "code",
   "execution_count": 5,
   "metadata": {},
   "outputs": [
    {
     "name": "stdout",
     "output_type": "stream",
     "text": [
      "First Innings Extras:   {'BYES': 3, 'LEG BYES': 5, 'WIDES': 1, 'NO BALLS': 1, 'PENALTY': 0}\n",
      "Second Innings Extras:  {'BYES': 10, 'LEG BYES': 6, 'WIDES': 0, 'NO BALLS': 3, 'PENALTY': 0}\n",
      "Third Innings Extras:   {'BYES': 4, 'LEG BYES': 8, 'WIDES': 0, 'NO BALLS': 0, 'PENALTY': 0}\n"
     ]
    }
   ],
   "source": [
    "batting_stats_eng_1 = {'Batsman': ['Z. Crawley', 'D. Sibley', 'J. Bairstow', 'J. Root', 'B. Stokes', 'O. Pope', 'D. Lawrence', 'B. Foakes', 'D. Bess', 'J. Leach', 'J. Anderson'], 'Runs': [0]*11, 'Balls Faced': [0]*11, 'Fours': [0]*11, 'Sixes': [0]*11, 'SR': [0]*11}\n",
    "batting_stats_eng_1 = pd.DataFrame(batting_stats_eng_1)\n",
    "\n",
    "batting_stats_ind_1 = {'Batsman': ['S. Gill', 'R. Sharma', 'C. Pujara', 'V. Kohli', 'A. Rahane', 'R. Pant', 'R. Ashwin', 'W. Sundar', 'A. Patel', 'I. Sharma', 'M. Siraj'], 'Runs': [0]*11, 'Balls Faced': [0]*11, 'Fours': [0]*11, 'Sixes': [0]*11, 'SR': [0]*11}\n",
    "batting_stats_ind_1 = pd.DataFrame(batting_stats_ind_1)\n",
    "\n",
    "batting_stats_eng_2 = {'Batsman': ['Z. Crawley', 'D. Sibley', 'J. Bairstow', 'J. Root', 'B. Stokes', 'O. Pope', 'D. Lawrence', 'B. Foakes', 'D. Bess', 'J. Leach', 'J. Anderson'], 'Runs': [0]*11, 'Balls Faced': [0]*11, 'Fours': [0]*11, 'Sixes': [0]*11, 'SR': [0]*11}\n",
    "batting_stats_eng_2 = pd.DataFrame(batting_stats_eng_2)\n",
    "\n",
    "extras = ['NB', 'WD', 'LB', 'BYES', 'PEN']\n",
    "\n",
    "extras_data_1 = innings_1_data[innings_1_data['Outcome'].str.contains('|'.join(extras))]\n",
    "extras_data_2 = innings_2_data[innings_2_data['Outcome'].str.contains('|'.join(extras))]\n",
    "extras_data_3 = innings_3_data[innings_3_data['Outcome'].str.contains('|'.join(extras))]\n",
    "\n",
    "extras_stats_1 = {'BYES': np.sum(extras_data_1.loc[extras_data_1['Outcome'].str.contains('BYES')]['Runs']) - len(extras_data_1.loc[extras_data_1['Outcome'].str.contains(\"BYES NB|BYES WD\")]), 'LEG BYES': np.sum(extras_data_1.loc[extras_data_1['Outcome'].str.contains(\"LB\")]['Runs']) - len(extras_data_1.loc[extras_data_1['Outcome'].str.contains(\"LB NB\")]), 'WIDES': np.sum(extras_data_1.loc[extras_data_1['Outcome'] == 'WD']['Runs']), 'NO BALLS': len(extras_data_1[extras_data_1['Outcome'].str.contains(\"NB\")]), 'PENALTY': np.sum(extras_data_1.loc[extras_data_1['Outcome'] == 'PEN']['Runs'])}\n",
    "extras_stats_2 = {'BYES': np.sum(extras_data_2.loc[extras_data_2['Outcome'].str.contains('BYES')]['Runs']) - len(extras_data_2.loc[extras_data_2['Outcome'].str.contains(\"BYES NB|BYES WD\")]), 'LEG BYES': np.sum(extras_data_2.loc[extras_data_2['Outcome'].str.contains(\"LB\")]['Runs']) - len(extras_data_2.loc[extras_data_2['Outcome'].str.contains(\"LB NB\")]), 'WIDES': np.sum(extras_data_2.loc[extras_data_2['Outcome'] == 'WD']['Runs']), 'NO BALLS': len(extras_data_2[extras_data_2['Outcome'].str.contains(\"NB\")]), 'PENALTY': np.sum(extras_data_2.loc[extras_data_2['Outcome'] == 'PEN']['Runs'])}\n",
    "extras_stats_3 = {'BYES': np.sum(extras_data_3.loc[extras_data_3['Outcome'].str.contains('BYES')]['Runs']) - len(extras_data_3.loc[extras_data_3['Outcome'].str.contains(\"BYES NB|BYES WD\")]), 'LEG BYES': np.sum(extras_data_3.loc[extras_data_3['Outcome'].str.contains(\"LB\")]['Runs']) - len(extras_data_3.loc[extras_data_3['Outcome'].str.contains(\"LB NB\")]), 'WIDES': np.sum(extras_data_3.loc[extras_data_3['Outcome'] == 'WD']['Runs']), 'NO BALLS': len(extras_data_3[extras_data_3['Outcome'].str.contains(\"NB\")]), 'PENALTY': np.sum(extras_data_3.loc[extras_data_3['Outcome'] == 'PEN']['Runs'])}\n",
    "\n",
    "print('First Innings Extras:  ', extras_stats_1)\n",
    "print('Second Innings Extras: ', extras_stats_2)\n",
    "print('Third Innings Extras:  ', extras_stats_3)"
   ]
  },
  {
   "cell_type": "code",
   "execution_count": 6,
   "metadata": {},
   "outputs": [],
   "source": [
    "for b in batting_stats_eng_1['Batsman']:\n",
    "    batting_stats_eng_1.loc[batting_stats_eng_1['Batsman'] == b, 'Balls Faced'] = len(innings_1_data.loc[innings_1_data['Striker'] == b]) - len(innings_1_data.loc[innings_1_data['Striker'] == b].loc[innings_1_data[innings_1_data['Striker'] == b]['Outcome'] == 'WD'])\n",
    "    batting_stats_eng_1.loc[batting_stats_eng_1['Batsman'] == b, 'Fours'] = len(innings_1_data.loc[innings_1_data['Striker'] == b].loc[innings_1_data.loc[innings_1_data['Striker'] == b]['Outcome'] == 'FOUR']) + len(extras_data_1.loc[extras_data_1['Striker'] == b].loc[extras_data_1.loc[extras_data_1['Striker'] == b]['Outcome'].str.contains(\"FOUR NB\")])\n",
    "    batting_stats_eng_1.loc[batting_stats_eng_1['Batsman'] == b, 'Sixes'] = len(innings_1_data.loc[innings_1_data['Striker'] == b].loc[innings_1_data.loc[innings_1_data['Striker'] == b]['Outcome'] == 'SIX']) + len(extras_data_1.loc[extras_data_1['Striker'] == b].loc[extras_data_1.loc[extras_data_1['Striker'] == b]['Outcome'].str.contains(\"SIX NB\")])\n",
    "    batting_stats_eng_1.loc[batting_stats_eng_1['Batsman'] == b, 'Runs'] = int(np.sum(innings_1_data.loc[innings_1_data['Striker'] == b]['Runs'])) - len(extras_data_1.loc[extras_data_1['Striker'] == b].loc[extras_data_1.loc[extras_data_1['Striker'] == b]['Outcome'].str.contains(\"NB|WD\")]) - np.sum(extras_data_1.loc[extras_data_1['Striker'] == b].loc[extras_data_1.loc[extras_data_1['Striker'] == b]['Outcome'].str.contains(\"LB|BYES|PEN\")]['Runs']) + len(extras_data_1.loc[extras_data_1['Striker'] == b].loc[extras_data_1[extras_data_1['Striker'] == b]['Outcome'].str.contains(\"LB NB|BYES NB|PEN NB|BYES WD|PEN WD\")]) \n",
    "    batting_stats_eng_1.loc[batting_stats_eng_1['Batsman'] == b, 'SR'] = round((batting_stats_eng_1.loc[batting_stats_eng_1['Batsman'] == b, 'Runs'] / batting_stats_eng_1.loc[batting_stats_eng_1['Batsman'] == b, 'Balls Faced'] * 100), 2)\n",
    "\n",
    "for b in batting_stats_ind_1['Batsman']:\n",
    "    batting_stats_ind_1.loc[batting_stats_ind_1['Batsman'] == b, 'Balls Faced'] = len(innings_2_data.loc[innings_2_data['Striker'] == b]) - len(innings_2_data.loc[innings_2_data['Striker'] == b].loc[innings_2_data[innings_2_data['Striker'] == b]['Outcome'] == 'WD'])\n",
    "    batting_stats_ind_1.loc[batting_stats_ind_1['Batsman'] == b, 'Fours'] = len(innings_2_data.loc[innings_2_data['Striker'] == b].loc[innings_2_data.loc[innings_2_data['Striker'] == b]['Outcome'] == 'FOUR']) + len(extras_data_2.loc[extras_data_2['Striker'] == b].loc[extras_data_2.loc[extras_data_2['Striker'] == b]['Outcome'].str.contains(\"FOUR NB\")])\n",
    "    batting_stats_ind_1.loc[batting_stats_ind_1['Batsman'] == b, 'Sixes'] = len(innings_2_data.loc[innings_2_data['Striker'] == b].loc[innings_2_data.loc[innings_2_data['Striker'] == b]['Outcome'] == 'SIX']) + len(extras_data_2.loc[extras_data_2['Striker'] == b].loc[extras_data_2.loc[extras_data_2['Striker'] == b]['Outcome'].str.contains(\"SIX NB\")])\n",
    "    batting_stats_ind_1.loc[batting_stats_ind_1['Batsman'] == b, 'Runs'] = int(np.sum(innings_2_data.loc[innings_2_data['Striker'] == b]['Runs'])) - len(extras_data_2.loc[extras_data_2['Striker'] == b].loc[extras_data_2.loc[extras_data_2['Striker'] == b]['Outcome'].str.contains(\"NB|WD\")]) - np.sum(extras_data_2.loc[extras_data_2['Striker'] == b].loc[extras_data_2.loc[extras_data_2['Striker'] == b]['Outcome'].str.contains(\"LB|BYES|PEN\")]['Runs']) + len(extras_data_2.loc[extras_data_2['Striker'] == b].loc[extras_data_2[extras_data_2['Striker'] == b]['Outcome'].str.contains(\"LB NB|BYES NB|PEN NB|BYES WD|PEN WD\")])\n",
    "    batting_stats_ind_1.loc[batting_stats_ind_1['Batsman'] == b, 'SR'] = round((batting_stats_ind_1.loc[batting_stats_ind_1['Batsman'] == b, 'Runs'] / batting_stats_ind_1.loc[batting_stats_ind_1['Batsman'] == b, 'Balls Faced'] * 100), 2)\n",
    "\n",
    "for b in batting_stats_eng_2['Batsman']:\n",
    "    batting_stats_eng_2.loc[batting_stats_eng_2['Batsman'] == b, 'Balls Faced'] = len(innings_3_data.loc[innings_3_data['Striker'] == b]) - len(innings_3_data.loc[innings_3_data['Striker'] == b].loc[innings_3_data[innings_3_data['Striker'] == b]['Outcome'] == 'WD'])\n",
    "    batting_stats_eng_2.loc[batting_stats_eng_2['Batsman'] == b, 'Fours'] = len(innings_3_data.loc[innings_3_data['Striker'] == b].loc[innings_3_data.loc[innings_3_data['Striker'] == b]['Outcome'] == 'FOUR']) + len(extras_data_3.loc[extras_data_3['Striker'] == b].loc[extras_data_3.loc[extras_data_3['Striker'] == b]['Outcome'].str.contains(\"FOUR NB\")])\n",
    "    batting_stats_eng_2.loc[batting_stats_eng_2['Batsman'] == b, 'Sixes'] = len(innings_3_data.loc[innings_3_data['Striker'] == b].loc[innings_3_data.loc[innings_3_data['Striker'] == b]['Outcome'] == 'SIX']) + len(extras_data_3.loc[extras_data_3['Striker'] == b].loc[extras_data_3.loc[extras_data_3['Striker'] == b]['Outcome'].str.contains(\"SIX NB\")])\n",
    "    batting_stats_eng_2.loc[batting_stats_eng_2['Batsman'] == b, 'Runs'] = int(np.sum(innings_3_data.loc[innings_3_data['Striker'] == b]['Runs'])) - len(extras_data_3.loc[extras_data_3['Striker'] == b].loc[extras_data_3.loc[extras_data_3['Striker'] == b]['Outcome'].str.contains(\"NB|WD\")]) - np.sum(extras_data_3.loc[extras_data_3['Striker'] == b].loc[extras_data_3.loc[extras_data_3['Striker'] == b]['Outcome'].str.contains(\"LB|BYES|PEN\")]['Runs']) + len(extras_data_3.loc[extras_data_3['Striker'] == b].loc[extras_data_3[extras_data_3['Striker'] == b]['Outcome'].str.contains(\"LB NB|BYES NB|PEN NB|BYES WD|PEN WD\")]) \n",
    "    batting_stats_eng_2.loc[batting_stats_eng_2['Batsman'] == b, 'SR'] = round((batting_stats_eng_2.loc[batting_stats_eng_2['Batsman'] == b, 'Runs'] / batting_stats_eng_2.loc[batting_stats_eng_2['Batsman'] == b, 'Balls Faced'] * 100), 2)"
   ]
  },
  {
   "cell_type": "code",
   "execution_count": 7,
   "metadata": {},
   "outputs": [
    {
     "name": "stdout",
     "output_type": "stream",
     "text": [
      "\u001b[1mEngland's Batting Scorecard 1st Innings\n",
      "\u001b[0m\n",
      "     Batsman  Runs  Balls Faced  Fours  Sixes     SR\n",
      "  Z. Crawley     9           30      1      0  30.00\n",
      "   D. Sibley     2            8      0      0  25.00\n",
      " J. Bairstow    28           67      6      0  41.79\n",
      "     J. Root     5            9      1      0  55.56\n",
      "   B. Stokes    55          121      6      2  45.45\n",
      "     O. Pope    29           87      2      0  33.33\n",
      " D. Lawrence    46           74      8      0  62.16\n",
      "   B. Foakes     1           12      0      0   8.33\n",
      "     D. Bess     3           16      0      0  18.75\n",
      "    J. Leach     7           17      1      0  41.18\n",
      " J. Anderson    10           15      1      0  66.67\n",
      "\n",
      "\n",
      "\n",
      "\n",
      "\u001b[1mIndia's Batting Scorecard 1st Innings\n",
      "\u001b[0m\n",
      "   Batsman  Runs  Balls Faced  Fours  Sixes     SR\n",
      "   S. Gill     0            3      0      0   0.00\n",
      " R. Sharma    49          144      7      0  34.03\n",
      " C. Pujara    17           66      1      0  25.76\n",
      "  V. Kohli     0            8      0      0   0.00\n",
      " A. Rahane    27           45      4      0  60.00\n",
      "   R. Pant   101          118     13      2  85.59\n",
      " R. Ashwin    13           32      2      0  40.62\n",
      " W. Sundar    96          174     10      1  55.17\n",
      "  A. Patel    43           97      5      1  44.33\n",
      " I. Sharma     0            1      0      0   0.00\n",
      "  M. Siraj     0            3      0      0   0.00\n",
      "\n",
      "\n",
      "\n",
      "\n",
      "\u001b[1mEngland's Batting Scorecard 2nd Innings\n",
      "\u001b[0m\n",
      "     Batsman  Runs  Balls Faced  Fours  Sixes      SR\n",
      "  Z. Crawley     5           16      0      0   31.25\n",
      "   D. Sibley     3           21      0      0   14.29\n",
      " J. Bairstow     0            1      0      0    0.00\n",
      "     J. Root    30           72      3      0   41.67\n",
      "   B. Stokes     2            9      0      0   22.22\n",
      "     O. Pope    15           31      0      1   48.39\n",
      " D. Lawrence    50           95      6      0   52.63\n",
      "   B. Foakes    13           46      0      0   28.26\n",
      "     D. Bess     2            6      0      0   33.33\n",
      "    J. Leach     2           31      0      0    6.45\n",
      " J. Anderson     1            1      0      0  100.00\n"
     ]
    }
   ],
   "source": [
    "print('\\033[1m' + \"England's Batting Scorecard 1st Innings\\n\" + '\\033[0m')\n",
    "print(batting_stats_eng_1.to_string(index=False))\n",
    "print('\\n\\n\\n')\n",
    "print('\\033[1m' + \"India's Batting Scorecard 1st Innings\\n\" + '\\033[0m')\n",
    "print(batting_stats_ind_1.to_string(index=False))\n",
    "print('\\n\\n\\n')\n",
    "print('\\033[1m' + \"England's Batting Scorecard 2nd Innings\\n\" + '\\033[0m')\n",
    "print(batting_stats_eng_2.to_string(index=False))"
   ]
  },
  {
   "cell_type": "code",
   "execution_count": 8,
   "metadata": {},
   "outputs": [],
   "source": [
    "bowling_stats_ind_1 = {'Bowler': ['I. Sharma', 'M. Siraj', 'A. Patel', 'R. Ashwin', 'W. Sundar'], 'Overs': ['']*len(innings_1_data.groupby(['Bowler'])), 'Maidens': [0]*len(innings_1_data.groupby(['Bowler'])), 'Runs': [0]*len(innings_1_data.groupby(['Bowler'])), 'Wickets': [0]*len(innings_1_data.groupby(['Bowler'])), 'Economy Rate': [0]*len(innings_1_data.groupby(['Bowler']))}\n",
    "bowling_stats_ind_1 = pd.DataFrame(bowling_stats_ind_1)\n",
    "\n",
    "bowling_stats_eng_1 = {'Bowler': ['J. Anderson', 'B. Stokes', 'J. Leach', 'D. Bess', 'J. Root'], 'Overs': ['']*len(innings_2_data.groupby(['Bowler'])), 'Maidens': [0]*len(innings_2_data.groupby(['Bowler'])), 'Runs': [0]*len(innings_2_data.groupby(['Bowler'])), 'Wickets': [0]*len(innings_2_data.groupby(['Bowler'])), 'Economy Rate': [0]*len(innings_2_data.groupby(['Bowler']))}\n",
    "bowling_stats_eng_1 = pd.DataFrame(bowling_stats_eng_1)\n",
    "\n",
    "bowling_stats_ind_2 = {'Bowler': ['M. Siraj', 'A. Patel', 'R. Ashwin', 'W. Sundar'], 'Overs': ['']*len(innings_3_data.groupby(['Bowler'])), 'Maidens': [0]*len(innings_3_data.groupby(['Bowler'])), 'Runs': [0]*len(innings_3_data.groupby(['Bowler'])), 'Wickets': [0]*len(innings_3_data.groupby(['Bowler'])), 'Economy Rate': [0]*len(innings_3_data.groupby(['Bowler']))}\n",
    "bowling_stats_ind_2 = pd.DataFrame(bowling_stats_ind_2)"
   ]
  },
  {
   "cell_type": "code",
   "execution_count": 9,
   "metadata": {},
   "outputs": [],
   "source": [
    "innings_1_data_maiden = innings_1_data.loc[~innings_1_data['Outcome'].str.contains(\"LB|BYES|PEN\")]\n",
    "innings_2_data_maiden = innings_2_data.loc[~innings_2_data['Outcome'].str.contains(\"LB|BYES|PEN\")]\n",
    "innings_3_data_maiden = innings_3_data.loc[~innings_3_data['Outcome'].str.contains(\"LB|BYES|PEN\")]\n",
    "\n",
    "for b in bowling_stats_ind_1['Bowler']:\n",
    "    bowling_stats_ind_1.loc[bowling_stats_ind_1['Bowler'] == b, 'Overs'] = (str(len(np.unique(innings_1_data.loc[innings_1_data['Bowler'] == b]['Over'])) - 1) + '.' + (str([i for i in innings_1_data.loc[innings_1_data['Bowler'] == b].groupby(['Over']).count()['Ball'].apply(lambda x: x if x < 6 else 0) if i != 0][0]) if [i for i in innings_1_data.loc[innings_1_data['Bowler'] == b].groupby(['Over']).count()['Ball'].apply(lambda x: x if x < 6 else 0) if i != 0] != [] else '0') if [i for i in innings_1_data.loc[innings_1_data['Bowler'] == b].groupby(['Over']).count()['Ball'].apply(lambda x: x if x < 6 else 0) if i != 0] != [] else (str(len(np.unique(innings_1_data.loc[innings_1_data['Bowler'] == b]['Over'])))))\n",
    "    bowling_stats_ind_1.loc[bowling_stats_ind_1['Bowler'] == b, 'Runs'] = np.sum(innings_1_data.loc[innings_1_data['Bowler'] == b]['Runs']) - np.sum(extras_data_1.loc[extras_data_1['Bowler'] == b].loc[extras_data_1.loc[extras_data_1['Bowler'] == b]['Outcome'].str.contains(\"LB|BYES|PEN\")]['Runs']) + len(extras_data_1.loc[extras_data_1['Bowler'] == b].loc[extras_data_1[extras_data_1['Bowler'] == b]['Outcome'].str.contains(\"LB NB|BYES NB|PEN NB|BYES WD|PEN WD\")])\n",
    "    bowling_stats_ind_1.loc[bowling_stats_ind_1['Bowler'] == b, 'Wickets'] = len(innings_1_data.loc[innings_1_data['Outcome'] == 'OUT'].loc[innings_1_data[innings_1_data['Outcome'] == 'OUT']['Bowler'] == b]) - len(innings_1_data.loc[innings_1_data['Observation'] == 'RUN OUT'].loc[innings_1_data[innings_1_data['Observation'] == 'RUN OUT']['Bowler'] == b])\n",
    "    bowling_stats_ind_1.loc[bowling_stats_ind_1['Bowler'] == b, 'Economy Rate'] = round((float(bowling_stats_ind_1.loc[bowling_stats_ind_1['Bowler'] == b]['Runs'] / float(bowling_stats_ind_1.loc[bowling_stats_ind_1['Bowler'] == b]['Overs']))), 2)\n",
    "    bowling_stats_ind_1.loc[bowling_stats_ind_1['Bowler'] == b, 'Maidens'] = (len([1 for i in innings_1_data_maiden.loc[innings_1_data_maiden['Bowler'] == b].groupby(['Over']).sum()['Runs'] if i == 0]) - 1 if [i for i in innings_1_data.loc[innings_1_data['Bowler'] == b].groupby(['Over']).count()['Ball'].apply(lambda x: x if x < 6 else 0) if i != 0] != [] else len([1 for i in innings_1_data_maiden.loc[innings_1_data_maiden['Bowler'] == b].groupby(['Over']).sum()['Runs'] if i == 0]))\n",
    "\n",
    "for b in bowling_stats_eng_1['Bowler']:\n",
    "    bowling_stats_eng_1.loc[bowling_stats_eng_1['Bowler'] == b, 'Overs'] = (str(len(np.unique(innings_2_data.loc[innings_2_data['Bowler'] == b]['Over'])) - 1) + '.' + (str([i for i in innings_2_data.loc[innings_2_data['Bowler'] == b].groupby(['Over']).count()['Ball'].apply(lambda x: x if x < 6 else 0) if i != 0][0]) if [i for i in innings_2_data.loc[innings_2_data['Bowler'] == b].groupby(['Over']).count()['Ball'].apply(lambda x: x if x < 6 else 0) if i != 0] != [] else '0') if [i for i in innings_2_data.loc[innings_2_data['Bowler'] == b].groupby(['Over']).count()['Ball'].apply(lambda x: x if x < 6 else 0) if i != 0] != [] else (str(len(np.unique(innings_2_data.loc[innings_2_data['Bowler'] == b]['Over'])))))\n",
    "    bowling_stats_eng_1.loc[bowling_stats_eng_1['Bowler'] == b, 'Runs'] = np.sum(innings_2_data.loc[innings_2_data['Bowler'] == b]['Runs']) - np.sum(extras_data_2.loc[extras_data_2['Bowler'] == b].loc[extras_data_2.loc[extras_data_2['Bowler'] == b]['Outcome'].str.contains(\"LB|BYES|PEN\")]['Runs']) + len(extras_data_2.loc[extras_data_2['Bowler'] == b].loc[extras_data_2[extras_data_2['Bowler'] == b]['Outcome'].str.contains(\"LB NB|BYES NB|PEN NB|BYES WD|PEN WD\")])\n",
    "    bowling_stats_eng_1.loc[bowling_stats_eng_1['Bowler'] == b, 'Wickets'] = len(innings_2_data.loc[innings_2_data['Outcome'] == 'OUT'].loc[innings_2_data[innings_2_data['Outcome'] == 'OUT']['Bowler'] == b]) - len(innings_2_data.loc[innings_2_data['Observation'] == 'RUN OUT'].loc[innings_2_data[innings_2_data['Observation'] == 'RUN OUT']['Bowler'] == b])\n",
    "    bowling_stats_eng_1.loc[bowling_stats_eng_1['Bowler'] == b, 'Economy Rate'] = round((float(bowling_stats_eng_1.loc[bowling_stats_eng_1['Bowler'] == b]['Runs'] / float(bowling_stats_eng_1.loc[bowling_stats_eng_1['Bowler'] == b]['Overs']))), 2)\n",
    "    bowling_stats_eng_1.loc[bowling_stats_eng_1['Bowler'] == b, 'Maidens'] = (len([1 for i in innings_2_data_maiden.loc[innings_2_data_maiden['Bowler'] == b].groupby(['Over']).sum()['Runs'] if i == 0]) - 1 if [i for i in innings_2_data.loc[innings_2_data['Bowler'] == b].groupby(['Over']).count()['Ball'].apply(lambda x: x if x < 6 else 0) if i != 0] != [] else len([1 for i in innings_2_data_maiden.loc[innings_2_data_maiden['Bowler'] == b].groupby(['Over']).sum()['Runs'] if i == 0]))\n",
    "for b in bowling_stats_ind_2['Bowler']:\n",
    "    bowling_stats_ind_2.loc[bowling_stats_ind_2['Bowler'] == b, 'Overs'] = (str(len(np.unique(innings_3_data.loc[innings_3_data['Bowler'] == b]['Over'])) - 1) + '.' + (str([i for i in innings_3_data.loc[innings_3_data['Bowler'] == b].groupby(['Over']).count()['Ball'].apply(lambda x: x if x < 6 else 0) if i != 0][0]) if [i for i in innings_3_data.loc[innings_3_data['Bowler'] == b].groupby(['Over']).count()['Ball'].apply(lambda x: x if x < 6 else 0) if i != 0] != [] else '0') if [i for i in innings_3_data.loc[innings_3_data['Bowler'] == b].groupby(['Over']).count()['Ball'].apply(lambda x: x if x < 6 else 0) if i != 0] != [] else (str(len(np.unique(innings_3_data.loc[innings_3_data['Bowler'] == b]['Over'])))))\n",
    "    bowling_stats_ind_2.loc[bowling_stats_ind_2['Bowler'] == b, 'Runs'] = np.sum(innings_3_data.loc[innings_3_data['Bowler'] == b]['Runs']) - np.sum(extras_data_3.loc[extras_data_3['Bowler'] == b].loc[extras_data_3.loc[extras_data_3['Bowler'] == b]['Outcome'].str.contains(\"LB|BYES|PEN\")]['Runs'])\n",
    "    bowling_stats_ind_2.loc[bowling_stats_ind_2['Bowler'] == b, 'Wickets'] = len(innings_3_data.loc[innings_3_data['Outcome'] == 'OUT'].loc[innings_3_data[innings_3_data['Outcome'] == 'OUT']['Bowler'] == b]) - len(innings_3_data.loc[innings_3_data['Observation'] == 'RUN OUT'].loc[innings_3_data[innings_3_data['Observation'] == 'RUN OUT']['Bowler'] == b])\n",
    "    bowling_stats_ind_2.loc[bowling_stats_ind_2['Bowler'] == b, 'Economy Rate'] = round((float(bowling_stats_ind_2.loc[bowling_stats_ind_2['Bowler'] == b]['Runs'] / float(bowling_stats_ind_2.loc[bowling_stats_ind_2['Bowler'] == b]['Overs']))), 2)\n",
    "    bowling_stats_ind_2.loc[bowling_stats_ind_2['Bowler'] == b, 'Maidens'] = len([1 for i in innings_3_data_maiden.loc[innings_3_data_maiden['Bowler'] == b].groupby(['Over']).sum()['Runs'] if i == 0])"
   ]
  },
  {
   "cell_type": "code",
   "execution_count": 10,
   "metadata": {},
   "outputs": [
    {
     "name": "stdout",
     "output_type": "stream",
     "text": [
      "\u001b[1mIndia's Bowling Scorecard 1st Innings\n",
      "\u001b[0m\n",
      "    Bowler Overs  Maidens  Runs  Wickets  Economy Rate\n",
      " I. Sharma     9        2    23        0          2.56\n",
      "  M. Siraj    14        2    45        2          3.21\n",
      "  A. Patel    26        7    68        4          2.62\n",
      " R. Ashwin  19.5        4    47        3          2.41\n",
      " W. Sundar     7        1    14        1          2.00\n",
      "\n",
      "\n",
      "\n",
      "\n",
      "\u001b[1mEngland's Bowling Scorecard 1st Innings\n",
      "\u001b[0m\n",
      "      Bowler Overs  Maidens  Runs  Wickets  Economy Rate\n",
      " J. Anderson    25       14    44        3          1.76\n",
      "   B. Stokes  27.4        6    89        4          3.25\n",
      "    J. Leach    27        5    89        2          3.30\n",
      "     D. Bess    17        1    71        0          4.18\n",
      "     J. Root    18        1    56        0          3.11\n",
      "\n",
      "\n",
      "\n",
      "\n",
      "\u001b[1mIndia's Bowling Scorecard 2nd Innings\n",
      "\u001b[0m\n",
      "    Bowler Overs  Maidens  Runs  Wickets  Economy Rate\n",
      "  M. Siraj     4        0    12        0          3.00\n",
      "  A. Patel    24        6    48        5          2.00\n",
      " R. Ashwin  22.5        4    47        5          2.09\n",
      " W. Sundar     4        0    16        0          4.00\n"
     ]
    }
   ],
   "source": [
    "print('\\033[1m' + \"India's Bowling Scorecard 1st Innings\\n\" + '\\033[0m')\n",
    "print(bowling_stats_ind_1.to_string(index=False))\n",
    "print('\\n\\n\\n')\n",
    "print('\\033[1m' + \"England's Bowling Scorecard 1st Innings\\n\" + '\\033[0m')\n",
    "print(bowling_stats_eng_1.to_string(index=False))\n",
    "print('\\n\\n\\n')\n",
    "print('\\033[1m' + \"India's Bowling Scorecard 2nd Innings\\n\" + '\\033[0m')\n",
    "print(bowling_stats_ind_2.to_string(index=False))"
   ]
  },
  {
   "cell_type": "code",
   "execution_count": 11,
   "metadata": {},
   "outputs": [
    {
     "name": "stdout",
     "output_type": "stream",
     "text": [
      "\u001b[1mEngland's Fall of Wickets 1st Innings\n",
      "\u001b[0m\n",
      "     Batsman   Score  Over\n",
      "   D. Sibley    10-1   5.2\n",
      "  Z. Crawley    15-2   7.5\n",
      "     J. Root    30-3  12.1\n",
      " J. Bairstow    78-4  28.1\n",
      "   B. Stokes   121-5  46.4\n",
      "     O. Pope   166-6  61.3\n",
      "   B. Foakes   170-7  65.4\n",
      " D. Lawrence   188-8  70.1\n",
      "     D. Bess   189-9  70.4\n",
      "    J. Leach  205-10  75.5\n",
      "\n",
      "\n",
      "\n",
      "\n",
      "\u001b[1mIndia's Fall of Wickets 1st Innings\n",
      "\u001b[0m\n",
      "   Batsman   Score   Over\n",
      "   S. Gill     0-1    0.3\n",
      " C. Pujara    40-2   23.6\n",
      "  V. Kohli    41-3   26.4\n",
      " A. Rahane    80-4   37.5\n",
      " R. Sharma   121-5   49.6\n",
      " R. Ashwin   146-6   58.1\n",
      "   R. Pant   259-7   84.1\n",
      "  A. Patel   365-8  113.6\n",
      " I. Sharma   365-9  114.1\n",
      "  M. Siraj  365-10  114.4\n",
      "\n",
      "\n",
      "\n",
      "\n",
      "\u001b[1mEngland's Fall of Wickets 2nd Innings\n",
      "\u001b[0m\n",
      "     Batsman   Score  Over\n",
      "  Z. Crawley    10-1   4.4\n",
      " J. Bairstow    10-2   4.5\n",
      "   D. Sibley    20-3   9.6\n",
      "   B. Stokes    30-4  13.1\n",
      "     O. Pope    65-5  24.5\n",
      "     J. Root    65-6  25.1\n",
      "   B. Foakes   109-7  43.1\n",
      "     D. Bess   111-8  45.1\n",
      "    J. Leach   134-9  54.2\n",
      " D. Lawrence  135-10  54.5\n"
     ]
    }
   ],
   "source": [
    "fall_of_wickets_1 = pd.DataFrame({'Batsman': [] * len(innings_1_data.loc[innings_1_data['Outcome'] == 'OUT']), 'Score': [] * len(innings_1_data.loc[innings_1_data['Outcome'] == 'OUT']), 'Over': [] * len(innings_1_data.loc[innings_1_data['Outcome'] == 'OUT'])})\n",
    "fall_of_wickets_1['Batsman'] = innings_1_data.loc[innings_1_data['Outcome'] == 'OUT']['Striker']\n",
    "fall_of_wickets_1['Score'] = [str(t) + '-' + str(i) for i, t in enumerate(innings_1_data.loc[innings_1_data['Outcome'] == 'OUT']['Total Score'], start = 1)]\n",
    "fall_of_wickets_1['Over'] = [str(row['Over']) + '.' + str(row['Ball'])[:-2] for index, row in innings_1_data.loc[innings_1_data['Outcome'] == 'OUT'].iterrows()]\n",
    "\n",
    "fall_of_wickets_2 = pd.DataFrame({'Batsman': [] * len(innings_2_data.loc[innings_2_data['Outcome'] == 'OUT']), 'Score': [] * len(innings_2_data.loc[innings_2_data['Outcome'] == 'OUT']), 'Over': [] * len(innings_2_data.loc[innings_2_data['Outcome'] == 'OUT'])})\n",
    "fall_of_wickets_2['Batsman'] = [row['Striker'] if row['Observation'] != 'RUN OUT' else row['Non-Striker'] for i, row in innings_2_data.loc[innings_2_data['Outcome'] == 'OUT'].iterrows()] \n",
    "fall_of_wickets_2['Score'] = [str(t) + '-' + str(i) for i, t in enumerate(innings_2_data.loc[innings_2_data['Outcome'] == 'OUT']['Total Score'], start = 1)]\n",
    "fall_of_wickets_2['Over'] = [str(row['Over']) + '.' + str(row['Ball']) [:-2] for index, row in innings_2_data.loc[innings_2_data['Outcome'] == 'OUT'].iterrows()]\n",
    "\n",
    "fall_of_wickets_3 = pd.DataFrame({'Batsman': [] * len(innings_3_data.loc[innings_3_data['Outcome'] == 'OUT']), 'Score': [] * len(innings_3_data.loc[innings_3_data['Outcome'] == 'OUT']), 'Over': [] * len(innings_3_data.loc[innings_3_data['Outcome'] == 'OUT'])})\n",
    "fall_of_wickets_3['Batsman'] = innings_3_data.loc[innings_3_data['Outcome'] == 'OUT']['Striker']\n",
    "fall_of_wickets_3['Score'] = [str(t) + '-' + str(i) for i, t in enumerate(innings_3_data.loc[innings_3_data['Outcome'] == 'OUT']['Total Score'], start = 1)]\n",
    "fall_of_wickets_3['Over'] = [str(row['Over']) + '.' + str(row['Ball'])[:-2] for index, row in innings_3_data.loc[innings_3_data['Outcome'] == 'OUT'].iterrows()]\n",
    "\n",
    "print('\\033[1m' + \"England's Fall of Wickets 1st Innings\\n\" + '\\033[0m')\n",
    "print(fall_of_wickets_1.to_string(index=False))\n",
    "print('\\n\\n\\n')\n",
    "print('\\033[1m' + \"India's Fall of Wickets 1st Innings\\n\" + '\\033[0m')\n",
    "print(fall_of_wickets_2.to_string(index=False))\n",
    "print('\\n\\n\\n')\n",
    "print('\\033[1m' + \"England's Fall of Wickets 2nd Innings\\n\" + '\\033[0m')\n",
    "print(fall_of_wickets_3.to_string(index=False))"
   ]
  },
  {
   "cell_type": "code",
   "execution_count": 12,
   "metadata": {},
   "outputs": [],
   "source": [
    "partnership_data_1 = pd.DataFrame({'Wicket': [str(i) for i in range(1, len(fall_of_wickets_1) + 1)], 'Batsmen': [str(row['Striker']) + '-' + str(row['Non-Striker']) for index, row in innings_1_data.loc[innings_1_data['Outcome'] == 'OUT'].iterrows()], 'Runs': [(int(n) if i == 0 else int([p.split(sep='-')[0] for p in fall_of_wickets_1['Score']][i]) - int([p.split(sep='-')[0] for p in fall_of_wickets_1['Score']][i-1])) for i, n in enumerate([p.split(sep='-')[0] for p in fall_of_wickets_1['Score']])]})\n",
    "partnership_data_2 = pd.DataFrame({'Wicket': [str(i) for i in range(1, len(fall_of_wickets_2) + 1)], 'Batsmen': [str(row['Striker']) + '-' + str(row['Non-Striker']) for index, row in innings_2_data.loc[innings_2_data['Outcome'] == 'OUT'].iterrows()], 'Runs': [(int(n) if i == 0 else int([p.split(sep='-')[0] for p in fall_of_wickets_2['Score']][i]) - int([p.split(sep='-')[0] for p in fall_of_wickets_2['Score']][i-1])) for i, n in enumerate([p.split(sep='-')[0] for p in fall_of_wickets_2['Score']])]})\n",
    "partnership_data_3 = pd.DataFrame({'Wicket': [str(i) for i in range(1, len(fall_of_wickets_3) + 1)], 'Batsmen': [str(row['Striker']) + '-' + str(row['Non-Striker']) for index, row in innings_3_data.loc[innings_3_data['Outcome'] == 'OUT'].iterrows()], 'Runs': [(int(n) if i == 0 else int([p.split(sep='-')[0] for p in fall_of_wickets_3['Score']][i]) - int([p.split(sep='-')[0] for p in fall_of_wickets_3['Score']][i-1])) for i, n in enumerate([p.split(sep='-')[0] for p in fall_of_wickets_3['Score']])]})"
   ]
  },
  {
   "cell_type": "code",
   "execution_count": 13,
   "metadata": {},
   "outputs": [
    {
     "name": "stdout",
     "output_type": "stream",
     "text": [
      "\u001b[1mEngland's Partnerships 1st Innings\n",
      "\u001b[0m\n",
      "Wicket                 Batsmen  Runs\n",
      "     1    D. Sibley-Z. Crawley    10\n",
      "     2  Z. Crawley-J. Bairstow     5\n",
      "     3     J. Root-J. Bairstow    15\n",
      "     4   J. Bairstow-B. Stokes    48\n",
      "     5       B. Stokes-O. Pope    43\n",
      "     6     O. Pope-D. Lawrence    45\n",
      "     7   B. Foakes-D. Lawrence     4\n",
      "     8     D. Lawrence-D. Bess    18\n",
      "     9        D. Bess-J. Leach     1\n",
      "    10    J. Leach-J. Anderson    16\n",
      "\n",
      "\n",
      "\n",
      "\n",
      "\u001b[1mIndia's Partnerships 1st Innings\n",
      "\u001b[0m\n",
      "Wicket              Batsmen  Runs\n",
      "     1    S. Gill-R. Sharma     0\n",
      "     2  C. Pujara-R. Sharma    40\n",
      "     3   V. Kohli-R. Sharma     1\n",
      "     4  A. Rahane-R. Sharma    39\n",
      "     5    R. Sharma-R. Pant    41\n",
      "     6    R. Ashwin-R. Pant    25\n",
      "     7    R. Pant-W. Sundar   113\n",
      "     8   W. Sundar-A. Patel   106\n",
      "     9  I. Sharma-W. Sundar     0\n",
      "    10   M. Siraj-W. Sundar     0\n",
      "\n",
      "\n",
      "\n",
      "\n",
      "\u001b[1mEngland's Partnerships 2nd Innings\n",
      "\u001b[0m\n",
      "Wicket                  Batsmen  Runs\n",
      "     1     Z. Crawley-D. Sibley    10\n",
      "     2    J. Bairstow-D. Sibley     0\n",
      "     3        D. Sibley-J. Root    10\n",
      "     4        B. Stokes-J. Root    10\n",
      "     5          O. Pope-J. Root    35\n",
      "     6      J. Root-D. Lawrence     0\n",
      "     7    B. Foakes-D. Lawrence    44\n",
      "     8      D. Bess-D. Lawrence     2\n",
      "     9     J. Leach-D. Lawrence    23\n",
      "    10  D. Lawrence-J. Anderson     1\n"
     ]
    }
   ],
   "source": [
    "print('\\033[1m' + \"England's Partnerships 1st Innings\\n\" + '\\033[0m')\n",
    "print(partnership_data_1.to_string(index=False))\n",
    "print('\\n\\n\\n')\n",
    "print('\\033[1m' + \"India's Partnerships 1st Innings\\n\" + '\\033[0m')\n",
    "print(partnership_data_2.to_string(index=False))\n",
    "print('\\n\\n\\n')\n",
    "print('\\033[1m' + \"England's Partnerships 2nd Innings\\n\" + '\\033[0m')\n",
    "print(partnership_data_3.to_string(index=False))"
   ]
  },
  {
   "cell_type": "code",
   "execution_count": 14,
   "metadata": {},
   "outputs": [
    {
     "name": "stdout",
     "output_type": "stream",
     "text": [
      "DAY 1\n",
      "\n",
      "                Overs  Runs  Wickets\n",
      "First Session      25    74        3\n",
      "Second Session     31    70        2\n",
      "Third Session      32    85        6\n",
      "\n",
      "DAY 2\n",
      "\n",
      "                Overs  Runs  Wickets\n",
      "First Session      26    56        3\n",
      "Second Session     25    73        2\n",
      "Third Session      32   141        1\n",
      "\n",
      "DAY 3\n",
      "\n",
      "                Overs  Runs  Wickets\n",
      "First Session      24    77        3\n",
      "Second Session     30    85        6\n",
      "Third Session      22    44        4\n"
     ]
    }
   ],
   "source": [
    "day_1_data_first_session = day_1_data.iloc[:day_1_data.loc[day_1_data['Key Observation'].str.contains(\"LUNCH\")].index[0]+1]\n",
    "day_1_data_second_session = day_1_data.iloc[day_1_data.loc[day_1_data['Key Observation'].str.contains(\"LUNCH\")].index[0]+1:day_1_data.loc[day_1_data['Key Observation'].str.contains(\"TEA\")].index[0]+1]\n",
    "day_1_data_third_session = day_1_data.iloc[day_1_data.loc[day_1_data['Key Observation'].str.contains(\"TEA\")].index[0]+1:day_1_data.loc[day_1_data['Key Observation'].str.contains(\"STUMPS\")].index[0]+1]\n",
    "\n",
    "print(\"DAY 1\\n\")\n",
    "\n",
    "day_1_data_session = pd.DataFrame({'Overs': [len(day_1_data_first_session.groupby(['Over']).count()), len(day_1_data_second_session.groupby(['Over']).count()), len(day_1_data_third_session.groupby(['Over']).count())], 'Runs': [sum(day_1_data_first_session['Runs']), sum(day_1_data_second_session['Runs']), sum(day_1_data_third_session['Runs'])], 'Wickets': [len(day_1_data_first_session.loc[day_1_data_first_session['Outcome'] == 'OUT']), len(day_1_data_second_session.loc[day_1_data_second_session['Outcome'] == 'OUT']), len(day_1_data_third_session.loc[day_1_data_third_session['Outcome'] == 'OUT'])]}, index = ['First Session', 'Second Session', 'Third Session'])\n",
    "print(day_1_data_session)\n",
    "\n",
    "day_2_data_first_session = day_2_data.iloc[:day_2_data.loc[day_2_data['Key Observation'].str.contains(\"LUNCH\")].index[0]+1]\n",
    "day_2_data_second_session = day_2_data.iloc[day_2_data.loc[day_2_data['Key Observation'].str.contains(\"LUNCH\")].index[0]+1:day_2_data.loc[day_2_data['Key Observation'].str.contains(\"TEA\")].index[0]+1]\n",
    "day_2_data_third_session = day_2_data.iloc[day_2_data.loc[day_2_data['Key Observation'].str.contains(\"TEA\")].index[0]+1:day_2_data.loc[day_2_data['Key Observation'].str.contains(\"STUMPS\")].index[0]+1]\n",
    "\n",
    "print(\"\\nDAY 2\\n\")\n",
    "\n",
    "day_2_data_session = pd.DataFrame({'Overs': [len(day_2_data_first_session.groupby(['Over']).count()), len(day_2_data_second_session.groupby(['Over']).count()), len(day_2_data_third_session.groupby(['Over']).count())], 'Runs': [sum(day_2_data_first_session['Runs']), sum(day_2_data_second_session['Runs']), sum(day_2_data_third_session['Runs'])], 'Wickets': [len(day_2_data_first_session.loc[day_2_data_first_session['Outcome'] == 'OUT']), len(day_2_data_second_session.loc[day_2_data_second_session['Outcome'] == 'OUT']), len(day_2_data_third_session.loc[day_2_data_third_session['Outcome'] == 'OUT'])]}, index = ['First Session', 'Second Session', 'Third Session'])\n",
    "\n",
    "print(day_2_data_session)\n",
    "\n",
    "day_3_data_first_session = day_3_data.iloc[:day_3_data.loc[day_3_data['Key Observation'].str.contains(\"LUNCH\")].index[0]+1]\n",
    "day_3_data_second_session = day_3_data.iloc[day_3_data.loc[day_3_data['Key Observation'].str.contains(\"LUNCH\")].index[0]+1:day_3_data.loc[day_3_data['Key Observation'].str.contains(\"TEA\")].index[0]+1]\n",
    "day_3_data_third_session = day_3_data.iloc[day_3_data.loc[day_3_data['Key Observation'].str.contains(\"TEA\")].index[0]+1:]\n",
    "\n",
    "print(\"\\nDAY 3\\n\")\n",
    "\n",
    "day_3_data_session = pd.DataFrame({'Overs': [len(day_3_data_first_session.groupby(['Over']).count()), len(day_3_data_second_session.groupby(['Over']).count()), len(day_3_data_third_session.groupby(['Over']).count())], 'Runs': [sum(day_3_data_first_session['Runs']), sum(day_3_data_second_session['Runs']), sum(day_3_data_third_session['Runs'])], 'Wickets': [len(day_3_data_first_session.loc[day_3_data_first_session['Outcome'] == 'OUT']), len(day_3_data_second_session.loc[day_3_data_second_session['Outcome'] == 'OUT']), len(day_3_data_third_session.loc[day_3_data_third_session['Outcome'] == 'OUT'])]}, index = ['First Session', 'Second Session', 'Third Session'])\n",
    "\n",
    "print(day_3_data_session)"
   ]
  },
  {
   "cell_type": "code",
   "execution_count": 15,
   "metadata": {},
   "outputs": [
    {
     "data": {
      "text/plain": [
       "<matplotlib.legend.Legend at 0x1e54e3900a0>"
      ]
     },
     "execution_count": 15,
     "metadata": {},
     "output_type": "execute_result"
    },
    {
     "data": {
      "image/png": "[encoded data removed]",
      "text/plain": [
       "<Figure size 432x288 with 1 Axes>"
      ]
     },
     "metadata": {
      "needs_background": "light"
     },
     "output_type": "display_data"
    }
   ],
   "source": [
    "plt.plot(innings_1_data['Over'].unique(), innings_1_data.groupby(['Over']).tail(1)['Total Score'], color='red', label = 'England 1st Innings')\n",
    "plt.plot(innings_2_data['Over'].unique(), innings_2_data.groupby(['Over']).tail(1)['Total Score'], color='orange', label = 'India 1st Innings')\n",
    "plt.plot(innings_3_data['Over'].unique(), innings_3_data.groupby(['Over']).tail(1)['Total Score'], color='purple', label = 'England 2nd Innings')\n",
    "plt.xlabel('Overs')\n",
    "plt.xticks([i for i in range(0, len(innings_2_data['Over'].unique()) + 10, 10)])\n",
    "plt.ylabel('Total Score')\n",
    "plt.legend()"
   ]
  }
 ],
 "metadata": {
  "kernelspec": {
   "display_name": "Python 3",
   "language": "python",
   "name": "python3"
  },
  "language_info": {
   "codemirror_mode": {
    "name": "ipython",
    "version": 3
   },
   "file_extension": ".py",
   "mimetype": "text/x-python",
   "name": "python",
   "nbconvert_exporter": "python",
   "pygments_lexer": "ipython3",
   "version": "3.8.5"
  }
 },
 "nbformat": 4,
 "nbformat_minor": 4
}
